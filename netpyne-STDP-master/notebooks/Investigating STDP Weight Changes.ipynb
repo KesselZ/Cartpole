{
 "cells": [
  {
   "cell_type": "code",
   "execution_count": null,
   "id": "430dc4d5",
   "metadata": {},
   "outputs": [],
   "source": [
    "import pickle as pkl\n",
    "import numpy as np\n",
    "import os"
   ]
  },
  {
   "cell_type": "code",
   "execution_count": null,
   "id": "0d8b7cbd",
   "metadata": {},
   "outputs": [],
   "source": []
  },
  {
   "cell_type": "code",
   "execution_count": null,
   "id": "aee36e8b",
   "metadata": {},
   "outputs": [],
   "source": [
    "# solution_folder = '../results/20210806-balSynIn'\n",
    "wdir = '../results/20210907-ES1500it'\n",
    "\n",
    "with open(os.path.join(wdir, 'synWeights.pkl'), 'rb') as f:\n",
    "    synWeights = pkl.load(f)\n",
    "    \n",
    "with open(os.path.join(wdir, 'synWeights_final.pkl'), 'rb') as f:\n",
    "    synWeightsFinal = pkl.load(f)\n"
   ]
  },
  {
   "cell_type": "code",
   "execution_count": null,
   "id": "8a2e09aa",
   "metadata": {},
   "outputs": [],
   "source": []
  },
  {
   "cell_type": "code",
   "execution_count": null,
   "id": "fb094986",
   "metadata": {
    "scrolled": true
   },
   "outputs": [],
   "source": [
    "import matplotlib.pyplot as plt\n",
    "\n",
    "t = 0\n",
    "for n1, n1conns in sorted(list(synWeights.items()), key=lambda x:x[0]):\n",
    "    plt.figure(figsize=(10,10))\n",
    "    for n2, w in n1conns.items():\n",
    "        plt.plot([x for x,y in w], [y for x,y in w])\n",
    "    plt.title('STDP weights of neuron{} with other neurons over time'.format(n1))\n",
    "    plt.legend([str(n2) for n2 in n1conns.keys()])\n",
    "    plt.show()\n",
    "    t += len(n1conns)\n",
    "    \n",
    "print(t)"
   ]
  },
  {
   "cell_type": "code",
   "execution_count": null,
   "id": "75657b72",
   "metadata": {
    "scrolled": true
   },
   "outputs": [],
   "source": [
    "import matplotlib.pyplot as plt\n",
    "\n",
    "all_outs = []\n",
    "for n1, n1conns in synWeights.items():\n",
    "    for n2, w in n1conns.items():\n",
    "        all_outs.append(n2)\n",
    "        \n",
    "all_outs = sorted(list(set(all_outs)))\n",
    "    \n",
    "t = 0\n",
    "for n2 in all_outs:\n",
    "    plt.figure(figsize=(10,10))\n",
    "    legs = []\n",
    "    for n1, n1conns in synWeights.items():\n",
    "        for n2c, w in n1conns.items():\n",
    "            if n2c == n2:\n",
    "                plt.plot([x for x,y in w], [y for x,y in w])\n",
    "                legs.append(n1)\n",
    "    plt.title('STDP INPUT weights of neuron{}'.format(n2))\n",
    "    plt.legend([str(n1) for n1 in legs])\n",
    "    plt.show()\n",
    "    t += len(n1conns)\n",
    "    \n",
    "print(t)"
   ]
  },
  {
   "cell_type": "code",
   "execution_count": null,
   "id": "0b81d640",
   "metadata": {},
   "outputs": [],
   "source": []
  },
  {
   "cell_type": "code",
   "execution_count": null,
   "id": "3e98f6de",
   "metadata": {},
   "outputs": [],
   "source": [
    "synWeights.keys()"
   ]
  },
  {
   "cell_type": "code",
   "execution_count": null,
   "id": "b7baed9e",
   "metadata": {},
   "outputs": [],
   "source": [
    "import json\n",
    "import math\n",
    "\n",
    "sim_config = os.path.join(wdir, 'sim.pkl')\n",
    "with open(sim_config, 'rb') as f:\n",
    "  sim = pkl.load(f)\n",
    "\n",
    "dconf_path = os.path.join(wdir, 'backupcfg_sim.json')\n",
    "with open(dconf_path, 'r') as f:\n",
    "  dconf = json.load(f)\n",
    "pop_sizes = dconf['net']['allpops']\n",
    "\n",
    "separate_movement = True\n",
    "\n",
    "def _get_pop_name(cellId, sorted_min_ids):\n",
    "  # This is O(n), could be O(log(n)) with binary search\n",
    "  return [pop for pop, minId in sorted_min_ids if cellId >= minId][0]\n",
    "\n",
    "\n",
    "def _extract_sorted_min_ids(sim, dconf, separate_movement):\n",
    "  pop_sizes = dconf['net']['allpops']\n",
    "  sorted_min_ids = sorted(list(sim['simData']['dminID'].items()), key=lambda x:x[1], reverse=True)\n",
    "  if separate_movement:\n",
    "    for pop, moves in dconf['pop_to_moves'].items():\n",
    "      pop_size = pop_sizes[pop]\n",
    "      move_size = math.floor(pop_size / len(moves))\n",
    "      smin_dict = dict(sorted_min_ids)\n",
    "      pop_minId = smin_dict[pop]\n",
    "      del smin_dict[pop]\n",
    "      for midx, move in enumerate(moves):\n",
    "        semi_pop_name = '{}-{}'.format(pop, move)\n",
    "        smin_dict[semi_pop_name] = pop_minId + midx * move_size\n",
    "        pop_sizes[semi_pop_name] = move_size\n",
    "      sorted_min_ids = sorted(list(smin_dict.items()), key=lambda x:x[1], reverse=True)\n",
    "  return sorted_min_ids\n",
    "\n",
    "sorted_min_ids = _extract_sorted_min_ids(sim, dconf, separate_movement)"
   ]
  },
  {
   "cell_type": "code",
   "execution_count": null,
   "id": "a8d729e5",
   "metadata": {},
   "outputs": [],
   "source": []
  },
  {
   "cell_type": "code",
   "execution_count": null,
   "id": "bc6c25e6",
   "metadata": {},
   "outputs": [],
   "source": []
  },
  {
   "cell_type": "code",
   "execution_count": null,
   "id": "ef819d47",
   "metadata": {},
   "outputs": [],
   "source": [
    "_get_pop_name(13, sorted_min_ids)"
   ]
  },
  {
   "cell_type": "code",
   "execution_count": null,
   "id": "25602dc4",
   "metadata": {},
   "outputs": [],
   "source": [
    "def group_by_pop(synWeights):\n",
    "    new_map = {}\n",
    "    for n1, n1conns in synWeights.items():\n",
    "        n1pop = _get_pop_name(n1, sorted_min_ids)\n",
    "#         if n1pop not in new_map:\n",
    "#             new_map[n1pop] = {}\n",
    "        for n2, wl in n1conns.items():\n",
    "            n2pop = _get_pop_name(n2, sorted_min_ids)\n",
    "#             if n2pop not in new_map[n1pop]:\n",
    "#                 new_map[n1pop][n2pop] = []\n",
    "            conn_name = '{}-{}'.format(n1pop, n2pop)\n",
    "            for idx,(t,w) in enumerate(wl):\n",
    "                if conn_name not in new_map:\n",
    "                    new_map[conn_name] = []\n",
    "                if idx == len(new_map[conn_name]):\n",
    "                    new_map[conn_name].append([])\n",
    "                new_map[conn_name][idx].append(w)\n",
    "    return new_map\n",
    "\n",
    "popWeights = group_by_pop(synWeights)"
   ]
  },
  {
   "cell_type": "code",
   "execution_count": null,
   "id": "88316cb3",
   "metadata": {},
   "outputs": [],
   "source": [
    "popWeights['ES-EA']"
   ]
  },
  {
   "cell_type": "code",
   "execution_count": null,
   "id": "66b287e4",
   "metadata": {},
   "outputs": [],
   "source": []
  },
  {
   "cell_type": "code",
   "execution_count": null,
   "id": "89132909",
   "metadata": {},
   "outputs": [],
   "source": [
    "import matplotlib.pyplot as plt\n",
    "\n",
    "plt.hist(popWeights['ES-EA'][0], bins=30)"
   ]
  },
  {
   "cell_type": "code",
   "execution_count": null,
   "id": "9bc76b92",
   "metadata": {},
   "outputs": [],
   "source": [
    "# last_index = sorted(list(popWeights['ES-EA'].keys()))[-1]\n",
    "# print(last_index)\n",
    "\n",
    "plt.hist(popWeights['ES-EA'][-1], bins=30)"
   ]
  },
  {
   "cell_type": "code",
   "execution_count": null,
   "id": "77005f94",
   "metadata": {},
   "outputs": [],
   "source": [
    "from mpl_toolkits.mplot3d import Axes3D\n",
    "import matplotlib.pyplot as plt\n",
    "import numpy as np\n",
    "\n",
    "fig = plt.figure(figsize=(10,10))\n",
    "ax = fig.add_subplot(111, projection='3d')\n",
    "nbins = 50\n",
    "# color = 'r'\n",
    "\n",
    "extracted_weights = popWeights['EA-EA']\n",
    "all_weights = [w for ws in extracted_weights for w in ws]\n",
    "wmin = np.min(all_weights)\n",
    "wmax = np.max(all_weights)\n",
    "\n",
    "for z, weights in enumerate(extracted_weights):\n",
    "#     ys = np.random.normal(loc=10, scale=10, size=2000)\n",
    "\n",
    "    hist, bins = np.histogram(weights, bins=nbins, range=(wmin, wmax))\n",
    "    xs = (bins[:-1] + bins[1:])/2\n",
    "\n",
    "    ax.plot(xs, hist, zs=z, zdir='y', alpha=0.8)\n",
    "\n",
    "ax.set_title('EA-EA weight changes over time')\n",
    "ax.set_xlabel('Weights')\n",
    "ax.set_ylabel('Time ()')\n",
    "ax.set_zlabel('Count of neurons')\n",
    "\n",
    "plt.show()"
   ]
  },
  {
   "cell_type": "code",
   "execution_count": null,
   "id": "fb19d6a9",
   "metadata": {},
   "outputs": [],
   "source": []
  },
  {
   "cell_type": "code",
   "execution_count": null,
   "id": "a946000f",
   "metadata": {},
   "outputs": [],
   "source": [
    "popWeights.keys()"
   ]
  },
  {
   "cell_type": "code",
   "execution_count": null,
   "id": "27b38362",
   "metadata": {},
   "outputs": [],
   "source": []
  },
  {
   "cell_type": "code",
   "execution_count": null,
   "id": "67879cf4",
   "metadata": {},
   "outputs": [],
   "source": []
  },
  {
   "cell_type": "code",
   "execution_count": null,
   "id": "0dfbfa5a",
   "metadata": {},
   "outputs": [],
   "source": [
    "lastt = 0\n",
    "\n",
    "for neurs, neurvs in zip(*[[k,v] for k,v in synWeights[128].items()]):\n",
    "    for t in len(neurvs[0]):\n",
    "        for v in neurvs:\n",
    "            if v[t] == nan:\n"
   ]
  },
  {
   "cell_type": "code",
   "execution_count": null,
   "id": "be5147bb",
   "metadata": {},
   "outputs": [],
   "source": []
  },
  {
   "cell_type": "code",
   "execution_count": null,
   "id": "94c21e0b",
   "metadata": {},
   "outputs": [],
   "source": []
  },
  {
   "cell_type": "code",
   "execution_count": null,
   "id": "e5b30b74",
   "metadata": {},
   "outputs": [],
   "source": []
  },
  {
   "cell_type": "code",
   "execution_count": null,
   "id": "16cae9c4",
   "metadata": {},
   "outputs": [],
   "source": [
    "# measure the links of neurons with itself\n",
    "\n",
    "t = 0\n",
    "plt.figure(figsize=(4,4))\n",
    "legend = []\n",
    "for n1, n1conns in sorted(list(synWeights.items()), key=lambda x:x[0]):\n",
    "    for n2, w in n1conns.items():\n",
    "        if n1 == n2:\n",
    "            print('here')\n",
    "            plt.plot([x for x,y in w], [y for x,y in w])\n",
    "            legend.append(n1)\n",
    "    t += len(n1conns)\n",
    "    \n",
    "plt.title('STDP weights of neurons with themselves')\n",
    "plt.legend(legend)\n",
    "plt.show()\n",
    "    \n",
    "print(t)"
   ]
  },
  {
   "cell_type": "code",
   "execution_count": null,
   "id": "5adac2e7",
   "metadata": {
    "scrolled": false
   },
   "outputs": [],
   "source": [
    "import pandas as pd\n",
    "\n",
    "updates = {}\n",
    "LEN_W = None\n",
    "for n1, n1conns in synWeights.items():\n",
    "    for n2, w in n1conns.items():\n",
    "        if not LEN_W:\n",
    "            LEN_W = len(w)\n",
    "            updates = dict([(i,[]) for i in range(len(w)-1)])\n",
    "        assert LEN_W == len(w)\n",
    "        for i, (x1,y1) in enumerate(w):\n",
    "            if i == len(w) - 1:\n",
    "                break\n",
    "            x2,y2 = w[i+1]\n",
    "            \n",
    "            updates[i].append(y2-y1)\n",
    "\n",
    "df_st = pd.DataFrame(\n",
    "    [(np.mean(chgs), np.std(chgs), np.amin(chgs), np.amax(chgs)) for i,chgs in updates.items()],\n",
    "    columns=['mean', 'std', 'min', 'max'])\n",
    "df_st"
   ]
  },
  {
   "cell_type": "code",
   "execution_count": null,
   "id": "c0570bc3",
   "metadata": {},
   "outputs": [],
   "source": [
    "pd.set_option('display.max_rows', None)"
   ]
  },
  {
   "cell_type": "code",
   "execution_count": null,
   "id": "5ec972fb",
   "metadata": {},
   "outputs": [],
   "source": [
    "df_st.describe()"
   ]
  },
  {
   "cell_type": "code",
   "execution_count": null,
   "id": "ccee9f5e",
   "metadata": {},
   "outputs": [],
   "source": [
    "0.289943 / 1.8"
   ]
  },
  {
   "cell_type": "code",
   "execution_count": null,
   "id": "360e6ed1",
   "metadata": {},
   "outputs": [],
   "source": []
  },
  {
   "cell_type": "code",
   "execution_count": null,
   "id": "389fed67",
   "metadata": {},
   "outputs": [],
   "source": []
  },
  {
   "cell_type": "markdown",
   "id": "a86ff3af",
   "metadata": {},
   "source": [
    "### Look at critic rewards and punishments"
   ]
  },
  {
   "cell_type": "code",
   "execution_count": null,
   "id": "0596e654",
   "metadata": {},
   "outputs": [],
   "source": [
    "import csv\n",
    "\n",
    "header = ['time', 'move', 'critic']\n",
    "\n",
    "rewards = []\n",
    "with open(os.path.join(solution_folder, 'ActionsRewards.txt')) as f:\n",
    "    for row in csv.reader(f, delimiter='\\t'):\n",
    "        j = dict([(k, float(v)) for k,v in zip(header, row)])\n",
    "        rewards.append(j)"
   ]
  },
  {
   "cell_type": "code",
   "execution_count": null,
   "id": "8c17703d",
   "metadata": {},
   "outputs": [],
   "source": [
    "pos_rewards = [row for row in rewards if row['critic'] > 0]\n",
    "neg_rewards = [row for row in rewards if row['critic'] < 0]"
   ]
  },
  {
   "cell_type": "code",
   "execution_count": null,
   "id": "534386bd",
   "metadata": {},
   "outputs": [],
   "source": [
    "pos_rewards"
   ]
  },
  {
   "cell_type": "code",
   "execution_count": null,
   "id": "b89aed31",
   "metadata": {},
   "outputs": [],
   "source": [
    "plt.figure(figsize=(20,10))\n",
    "\n",
    "plt.plot([k['time'] for k in pos_rewards], [k['critic'] for k in pos_rewards])\n",
    "plt.plot([k['time'] for k in neg_rewards], [k['critic'] for k in neg_rewards])\n",
    "\n",
    "plt.legend(['reward', 'punishment'])\n",
    "plt.xlabel('time (ms)')\n",
    "plt.ylabel('critic')\n",
    "\n",
    "plt.show()"
   ]
  },
  {
   "cell_type": "code",
   "execution_count": null,
   "id": "9437d982",
   "metadata": {},
   "outputs": [],
   "source": []
  }
 ],
 "metadata": {
  "kernelspec": {
   "display_name": "Python 3",
   "language": "python",
   "name": "python3"
  },
  "language_info": {
   "codemirror_mode": {
    "name": "ipython",
    "version": 3
   },
   "file_extension": ".py",
   "mimetype": "text/x-python",
   "name": "python",
   "nbconvert_exporter": "python",
   "pygments_lexer": "ipython3",
   "version": "3.7.9"
  }
 },
 "nbformat": 4,
 "nbformat_minor": 5
}
